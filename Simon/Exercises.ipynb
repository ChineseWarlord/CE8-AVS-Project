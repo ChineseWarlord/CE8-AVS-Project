{
 "cells": [
  {
   "cell_type": "markdown",
   "metadata": {},
   "source": [
    "# Exercises 1.1 - Use of register\n",
    "\n",
    "* Create a vector X of N random numbers, where N is in the order of 1e6 to 1e8 (depending on the speed of your computer).\n",
    "* Create the following implementations to calculate the difference between the consecutive elements in X: (resulting in a vector Y with N-1 elements)\n",
    "    1. Use a regular for loop and calculate the difference as Y(i) = X(i+1) - X(i), where X and Y are implemented as python lists.\n",
    "    2. Extend the above program with intermediate variables (e.g. x_next and x_now) to store the X(i+1) value for the next iteration.\n",
    "    3. Same as 1, but store X and Y as numpy arrays.\n",
    "    4. Same as 2, but store X and Y as numpy arrays. \n",
    "    5. Use a diff-function to compute the result thereby exploiting vector computation (wide registers) - in Python this function is \"numpy.diff\". Remember to include \"import numpy\".\n",
    "* Measure the execution time of all implementations and explain the difference in performance."
   ]
  },
  {
   "cell_type": "markdown",
   "metadata": {},
   "source": [
    "* Create a vector X of N random numbers, where N is in the order of 1e6 to 1e8 (depending on the speed of your computer)."
   ]
  },
  {
   "cell_type": "code",
   "execution_count": null,
   "metadata": {
    "vscode": {
     "languageId": "plaintext"
    }
   },
   "outputs": [],
   "source": [
    "A = "
   ]
  },
  {
   "cell_type": "markdown",
   "metadata": {},
   "source": [
    "* Create the following implementations to calculate the difference between the consecutive elements in X: (resulting in a vector Y with N-1 elements)\n",
    "    1. Use a regular for loop and calculate the difference as Y(i) = X(i+1) - X(i), where X and Y are implemented as python lists.\n",
    "    2. Extend the above program with intermediate variables (e.g. x_next and x_now) to store the X(i+1) value for the next iteration.\n",
    "    3. Same as 1, but store X and Y as numpy arrays.\n",
    "    4. Same as 2, but store X and Y as numpy arrays. \n",
    "    5. Use a diff-function to compute the result thereby exploiting vector computation (wide registers) - in Python this function is \"numpy.diff\". Remember to include \"import numpy\".\n",
    "    "
   ]
  },
  {
   "cell_type": "code",
   "execution_count": null,
   "metadata": {
    "vscode": {
     "languageId": "plaintext"
    }
   },
   "outputs": [],
   "source": []
  }
 ],
 "metadata": {
  "language_info": {
   "name": "python"
  }
 },
 "nbformat": 4,
 "nbformat_minor": 2
}
