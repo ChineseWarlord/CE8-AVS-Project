{
 "cells": [
  {
   "cell_type": "markdown",
   "metadata": {},
   "source": [
    "# Mini-Project Numerical Scientific Computing\n",
    "\n",
    "* Understand the mathematical algorithm and how it can be programmed.\n",
    "* Naive algorithm: Make a first implementation in Python using for-loops. You can use either lists or numpy arrays for data storage, but no vector operations.\n",
    "* Numpy vectorized algorithm: Instead of looping over every element, use Numpy vectorized operations.\n",
    "\n",
    "Inspiration taken from:\n",
    "https://beej.us/blog/data/mandelbrot-set/"
   ]
  },
  {
   "cell_type": "code",
   "execution_count": 1,
   "metadata": {},
   "outputs": [
    {
     "data": {
      "text/plain": [
       "<matplotlib.image.AxesImage at 0x181bbb2c390>"
      ]
     },
     "execution_count": 1,
     "metadata": {},
     "output_type": "execute_result"
    },
    {
     "data": {
      "image/png": "[encoded data removed]",
      "text/plain": [
       "<Figure size 640x480 with 1 Axes>"
      ]
     },
     "metadata": {},
     "output_type": "display_data"
    }
   ],
   "source": [
    "# Importing libraries\n",
    "import numpy as np\n",
    "import cv2 as cv\n",
    "import matplotlib.pyplot as plt\n",
    "\n",
    "# Defining variables for the img\n",
    "width = 5000\n",
    "height = 5000\n",
    "channel = 3\n",
    "img = np.zeros((height,width,3), dtype=np.uint8)\n",
    "plt.imshow(img)"
   ]
  },
  {
   "cell_type": "code",
   "execution_count": 2,
   "metadata": {},
   "outputs": [],
   "source": [
    "# Defining the range of values for\n",
    "# the real and imaginary parts of c\n",
    "min_real = -2.0\n",
    "max_real = 1.0\n",
    "min_imaginary = -1.5\n",
    "max_imaginary = 1.5"
   ]
  },
  {
   "cell_type": "code",
   "execution_count": 3,
   "metadata": {},
   "outputs": [],
   "source": [
    "# Main loop\n",
    "# Iterate through each pixel coordinate\n",
    "for Px in range(width):\n",
    "    for Py in range(height):\n",
    "        # Map pixel coordinates to real and imaginary parts of c\n",
    "        c_Real = min_real + (max_real - min_real) * (Px / width)\n",
    "        c_Imgy = min_imaginary + (max_imaginary - min_imaginary) * (Py / height)\n",
    "        \n",
    "        # Initialize z as 0\n",
    "        z_Real = 0\n",
    "        z_Imgy = 0\n",
    "        \n",
    "        # Initialize iterations and max iterations\n",
    "        iter = 0\n",
    "        max_iter = 100\n",
    "        \n",
    "        # Calculate the Mandelbrot iteration until the threshold\n",
    "        # has been reached at 2 and iterations reach max iterations.\n",
    "        # The threshold has been reached when the magnitude at each\n",
    "        # calculation is <= to 2. (2*2) represent the squared threshold.\n",
    "        while(z_Real*z_Real + z_Imgy*z_Imgy <= (2*2) and iter < max_iter):\n",
    "            # Calculate the next iteration of the real and imginary part of z\n",
    "            next_z_Real = z_Real*z_Real - z_Imgy*z_Imgy + c_Real\n",
    "            next_z_Imgy = 2 * z_Real * z_Imgy + c_Imgy\n",
    "            \n",
    "            # Assign the calculated parts to z as the new starting point\n",
    "            z_Real = next_z_Real\n",
    "            z_Imgy = next_z_Imgy\n",
    "            \n",
    "            # Increase iteration\n",
    "            iter += 1\n",
    "        \n",
    "        # Check if iterations has reached max iterations\n",
    "        # apply color black if yes, otherwise choose color\n",
    "        # based on the current number of iterations\n",
    "        ##if iter == max_iter:\n",
    "        ##    color = 0 # Black\n",
    "        ##else:\n",
    "        ##    color = 255 - int(iter * 255 / max_iter)\n",
    "        \n",
    "        normalized_iter = iter / max_iter\n",
    "        color = plt.cm.hot(normalized_iter)\n",
    "        \n",
    "        # Paint the pixel based on the color\n",
    "        #img[Py,Px] = (color, color, color)\n",
    "        img[Py,Px] = (color[0]*255, color[1]*255, color[2]*255)\n",
    "        \n",
    "\n",
    "plt.imshow(img)"
   ]
  },
  {
   "cell_type": "code",
   "execution_count": null,
   "metadata": {},
   "outputs": [],
   "source": [
    "# Display the image\n",
    "plt.imshow(img, extent=(min_real, max_real, min_imaginary, max_imaginary))\n",
    "plt.xlabel('Real(c)')\n",
    "plt.ylabel('Imaginary(c)')\n",
    "plt.title('Mandelbrot Set')\n",
    "plt.show()"
   ]
  }
 ],
 "metadata": {
  "kernelspec": {
   "display_name": ".venv",
   "language": "python",
   "name": "python3"
  },
  "language_info": {
   "codemirror_mode": {
    "name": "ipython",
    "version": 3
   },
   "file_extension": ".py",
   "mimetype": "text/x-python",
   "name": "python",
   "nbconvert_exporter": "python",
   "pygments_lexer": "ipython3",
   "version": "3.11.6"
  }
 },
 "nbformat": 4,
 "nbformat_minor": 2
}
