{
 "cells": [
  {
   "cell_type": "markdown",
   "metadata": {},
   "source": [
    "# Mini-Project Numerical Scientific Computing\n",
    "\n",
    "* Understand the mathematical algorithm and how it can be programmed.\n",
    "* Naive algorithm: Make a first implementation in Python using for-loops. You can use either lists or numpy arrays for data storage, but no vector operations.\n",
    "* Numpy vectorized algorithm: Instead of looping over every element, use Numpy vectorized operations.\n",
    "\n",
    "Inspiration taken from:\n",
    "https://beej.us/blog/data/mandelbrot-set/, https://en.wikipedia.org/wiki/Mandelbrot_set"
   ]
  },
  {
   "cell_type": "markdown",
   "metadata": {},
   "source": [
    "# Importing libraries"
   ]
  },
  {
   "cell_type": "code",
   "execution_count": null,
   "metadata": {},
   "outputs": [],
   "source": [
    "# Importing libraries\n",
    "import matplotlib.pyplot as plt\n",
    "import numpy as np\n",
    "import cv2 as cv\n",
    "import time"
   ]
  },
  {
   "cell_type": "markdown",
   "metadata": {},
   "source": [
    "# Naive algorithm for computing Mandelbrot set"
   ]
  },
  {
   "cell_type": "markdown",
   "metadata": {},
   "source": [
    "##### Naive Mandelbrot Algorithm"
   ]
  },
  {
   "cell_type": "code",
   "execution_count": null,
   "metadata": {},
   "outputs": [],
   "source": [
    "# Naive Mandelbrot set algorithm\n",
    "def NaiveMandelbrot(width, height, img, params):\n",
    "    # Pseudocode from wikipedia: https://en.wikipedia.org/wiki/Mandelbrot_set\n",
    "    min_real = params[0]\n",
    "    max_real = params[1]\n",
    "    min_imaginary = params[2]\n",
    "    max_imaginary = params[3]\n",
    "    max_iter = params[4]\n",
    "    \n",
    "    # Iterate through each pixel coordinate\n",
    "    t1 = time.time()\n",
    "    for Px in range(width):\n",
    "        for Py in range(height):\n",
    "            # Map pixel coordinates to real and imaginary parts of c\n",
    "            c_Real = min_real + (max_real - min_real) * (Px / width)\n",
    "            c_Imgy = min_imaginary + (max_imaginary - min_imaginary) * (Py / height)\n",
    "            \n",
    "            # Initialize z as 0\n",
    "            z_Real = 0\n",
    "            z_Imgy = 0\n",
    "            \n",
    "            # Initialize iterations\n",
    "            iter = 0\n",
    "            \n",
    "            # Calculate the Mandelbrot iteration until the threshold\n",
    "            # has been reached at 2 and iterations reach max iterations.\n",
    "            # The threshold has been reached when the magnitude at each\n",
    "            # calculation is <= to 2. (2*2) represent the squared threshold.\n",
    "            while(z_Real*z_Real + z_Imgy*z_Imgy <= (2*2) and iter < max_iter):\n",
    "                # Calculate the next iteration of the real and imginary part of z\n",
    "                next_z_Real = z_Real*z_Real - z_Imgy*z_Imgy + c_Real\n",
    "                next_z_Imgy = 2 * z_Real * z_Imgy + c_Imgy\n",
    "                \n",
    "                # Assign the calculated parts to z as the new starting point\n",
    "                z_Real = next_z_Real\n",
    "                z_Imgy = next_z_Imgy\n",
    "                \n",
    "                # Increase iteration\n",
    "                iter += 1\n",
    "            \n",
    "            # Check if iterations has reached max iterations\n",
    "            # apply color black if yes, otherwise choose color\n",
    "            # based on the current number of iterations\n",
    "            \"\"\"\n",
    "            if iter == max_iter:\n",
    "                color = 0 # Black\n",
    "            else:\n",
    "                color = 255 - int(iter * 255 / max_iter)\n",
    "            \"\"\"\n",
    "            \n",
    "            # Normalize the iterations and map the color\n",
    "            normalized_iter = iter / max_iter\n",
    "            color = plt.cm.hot(normalized_iter)\n",
    "            \n",
    "            # Paint the pixel based on the color\n",
    "            #img[Py,Px] = (color, color, color)\n",
    "            img[Py,Px] = (color[0]*255, color[1]*255, color[2]*255)\n",
    "    t2 = time.time()\n",
    "\n",
    "    print(f\"\\n- Naive Mandelbrot Algorithm -\\nExecution time: {t2-t1}s\") \n",
    "\n",
    "    return img\n",
    "    plt.imshow(img)"
   ]
  },
  {
   "cell_type": "markdown",
   "metadata": {},
   "source": [
    "# Optimizing the inner while loop by using less computations"
   ]
  },
  {
   "cell_type": "markdown",
   "metadata": {},
   "source": [
    "##### Optimized Mandelbrot Algorithm+"
   ]
  },
  {
   "cell_type": "code",
   "execution_count": null,
   "metadata": {},
   "outputs": [],
   "source": [
    "def NaiveMandelbrotOptimized(width, height, img, params):\n",
    "    # Pseudocode from wikipedia: https://en.wikipedia.org/wiki/Plotting_algorithms_for_the_Mandelbrot_set\n",
    "    min_real = params[0]\n",
    "    max_real = params[1]\n",
    "    min_imaginary = params[2]\n",
    "    max_imaginary = params[3]\n",
    "    max_iter = params[4]\n",
    "    \n",
    "    # Iterate through each pixel coordinate\n",
    "    t1 = time.time()\n",
    "    for Px in range(width):\n",
    "        for Py in range(height):\n",
    "            # Map pixel coordinates to real and imaginary parts of c\n",
    "            c_Real = min_real + (max_real - min_real) * (Px / width)\n",
    "            c_Imgy = min_imaginary + (max_imaginary - min_imaginary) * (Py / height)\n",
    "            \n",
    "            # Initialize z as 0 and introduce new variable w\n",
    "            z_Real = 0\n",
    "            z_Imgy = 0\n",
    "            w = 0\n",
    "            \n",
    "            # Initialize iterations\n",
    "            iter = 0\n",
    "            \n",
    "            # Calculate the Mandelbrot iteration until the threshold\n",
    "            # Optimizing multiplication computations\n",
    "            # from naive approach\n",
    "            while(z_Real + z_Imgy <= 4 and iter < max_iter):\n",
    "                # Calculate the next iteration of the real and imginary part of z\n",
    "                next_z_Real = z_Real - z_Imgy + c_Real\n",
    "                next_z_Imgy = w - z_Real - z_Imgy + c_Imgy\n",
    "                \n",
    "                # Assign the calculated parts to z as the new starting point\n",
    "                z_Real = next_z_Real * next_z_Real\n",
    "                z_Imgy = next_z_Imgy * next_z_Imgy\n",
    "                w = (next_z_Real + next_z_Imgy) * (next_z_Real + next_z_Imgy)\n",
    "                \n",
    "                # Increase iteration\n",
    "                iter += 1\n",
    "            \n",
    "            # Check if iterations has reached max iterations\n",
    "            # apply color black if yes, otherwise choose color\n",
    "            # based on the current number of iterations\n",
    "            \"\"\"\n",
    "            if iter == max_iter:\n",
    "                color = 0 # Black\n",
    "            else:\n",
    "                color = 255 - int(iter * 255 / max_iter)\n",
    "            \"\"\"\n",
    "            \n",
    "            # Normalize the iterations and map the color\n",
    "            normalized_iter = iter / max_iter\n",
    "            color = plt.cm.hot(normalized_iter)\n",
    "            \n",
    "            # Paint the pixel based on the color\n",
    "            #img[Py,Px] = (color, color, color)\n",
    "            img[Py,Px] = (color[0]*255, color[1]*255, color[2]*255)\n",
    "    t2 = time.time()\n",
    "\n",
    "    print(f\"\\n- Optimized Naive Mandelbrot Algorithm+ -\\nExecution time: {t2-t1}s\") \n",
    "\n",
    "    return img\n",
    "    plt.imshow(img)"
   ]
  },
  {
   "cell_type": "markdown",
   "metadata": {},
   "source": [
    "##### Further Optimized Mandelbrot Algorithm++"
   ]
  },
  {
   "cell_type": "code",
   "execution_count": null,
   "metadata": {},
   "outputs": [],
   "source": [
    "def NaiveMandelbrotOptimizedPlus(width, height, img, params):\n",
    "    # Pseudocode from wikipedia: https://en.wikipedia.org/wiki/Plotting_algorithms_for_the_Mandelbrot_set\n",
    "    min_real = params[0]\n",
    "    max_real = params[1]\n",
    "    min_imaginary = params[2]\n",
    "    max_imaginary = params[3]\n",
    "    max_iter = params[4]\n",
    "    \n",
    "    # Iterate through each pixel coordinate\n",
    "    t1 = time.time()\n",
    "    for Px in range(width):\n",
    "        for Py in range(height):\n",
    "            # Map pixel coordinates to real and imaginary parts of c\n",
    "            c_Real = min_real + (max_real - min_real) * (Px / width)\n",
    "            c_Imgy = min_imaginary + (max_imaginary - min_imaginary) * (Py / height)\n",
    "            \n",
    "            # Initialize z as 0\n",
    "            z_Real = 0\n",
    "            z_Imgy = 0\n",
    "            \n",
    "            next_z_Real = 0\n",
    "            next_z_Imgy = 0\n",
    "            \n",
    "            # Initialize iterations\n",
    "            iter = 0\n",
    "            \n",
    "            # Calculate the Mandelbrot iteration until the threshold\n",
    "            # Optimizing multiplication computations\n",
    "            # from naive approach\n",
    "            while(z_Real + z_Imgy <= 4 and iter < max_iter):\n",
    "                # Calculate the next iteration of the real and imginary part of z\n",
    "                next_z_Imgy = 2 * next_z_Real * next_z_Imgy + c_Imgy\n",
    "                next_z_Real = z_Real - z_Imgy + c_Real\n",
    "                \n",
    "                \n",
    "                # Assign the calculated parts to z as the new starting point\n",
    "                z_Real = next_z_Real * next_z_Real\n",
    "                z_Imgy = next_z_Imgy * next_z_Imgy\n",
    "                \n",
    "                # Increase iteration\n",
    "                iter += 1\n",
    "            \n",
    "            # Check if iterations has reached max iterations\n",
    "            # apply color black if yes, otherwise choose color\n",
    "            # based on the current number of iterations\n",
    "            \"\"\"\n",
    "            if iter == max_iter:\n",
    "                color = 0 # Black\n",
    "            else:\n",
    "                color = 255 - int(iter * 255 / max_iter)\n",
    "            \"\"\"\n",
    "            \n",
    "            # Normalize the iterations and map the color\n",
    "            normalized_iter = iter / max_iter\n",
    "            color = plt.cm.hot(normalized_iter)\n",
    "            \n",
    "            # Paint the pixel based on the color\n",
    "            #img[Py,Px] = (color, color, color)\n",
    "            img[Py,Px] = (color[0]*255, color[1]*255, color[2]*255)\n",
    "    t2 = time.time()\n",
    "\n",
    "    print(f\"\\n- Optimized Naive Mandelbrot Algorithm++ -\\nExecution time: {t2-t1}s\") \n",
    "\n",
    "    return img\n",
    "    plt.imshow(img)"
   ]
  },
  {
   "cell_type": "markdown",
   "metadata": {},
   "source": [
    "# Mandelbrot algorithm using Numpy vectorization"
   ]
  },
  {
   "cell_type": "code",
   "execution_count": null,
   "metadata": {},
   "outputs": [],
   "source": [
    "def NumpyMandelbrot():\n",
    "    return 0"
   ]
  },
  {
   "cell_type": "markdown",
   "metadata": {},
   "source": [
    "# Displaying the Mandelbrot set in the complex plane"
   ]
  },
  {
   "cell_type": "markdown",
   "metadata": {},
   "source": [
    "##### Function to display Mandelbrot "
   ]
  },
  {
   "cell_type": "code",
   "execution_count": null,
   "metadata": {},
   "outputs": [],
   "source": [
    "def displayMandelbrot(img, params, title):\n",
    "    min_real = params[0]\n",
    "    max_real = params[1]\n",
    "    min_imaginary = params[2]\n",
    "    max_imaginary = params[3]\n",
    "    \n",
    "    plt.imshow(img, extent=(min_real, max_real, min_imaginary, max_imaginary))\n",
    "    plt.xlabel(\"Real(c)\")\n",
    "    plt.ylabel(\"Imaginary(c)\")\n",
    "    plt.title(\"Mandelbrot Set\\n- \" + f\"{title}\")\n",
    "    plt.show()"
   ]
  },
  {
   "cell_type": "markdown",
   "metadata": {},
   "source": [
    "# Defining image and complex variables"
   ]
  },
  {
   "cell_type": "code",
   "execution_count": null,
   "metadata": {},
   "outputs": [],
   "source": [
    "# Defining variables for the img\n",
    "width = 500\n",
    "height = 500\n",
    "channel = 3\n",
    "img = np.zeros((height,width,3), dtype=np.uint8)\n",
    "\n",
    "# Defining max iterations\n",
    "max_iter = 100\n",
    "\n",
    "# Defining the range of values for\n",
    "# the real and imaginary parts of c\n",
    "min_real = -2.0\n",
    "max_real = 1.0\n",
    "min_imaginary = -1.5\n",
    "max_imaginary = 1.5\n",
    "params = [min_real,\n",
    "          max_real,\n",
    "          min_imaginary,\n",
    "          max_imaginary,\n",
    "          max_iter\n",
    "          ]\n"
   ]
  },
  {
   "cell_type": "markdown",
   "metadata": {},
   "source": [
    "# Running each algorithm"
   ]
  },
  {
   "cell_type": "code",
   "execution_count": null,
   "metadata": {},
   "outputs": [],
   "source": [
    "# Naive Mandelbrot Algorithm\n",
    "img_mandel = NaiveMandelbrot(width, height, img, params)\n",
    "displayMandelbrot(img_mandel, params, \"Naive\")\n",
    "\n",
    "# Optimized Mandelbrot Algorithm+\n",
    "img_mandel = NaiveMandelbrotOptimized(width, height, img, params)\n",
    "displayMandelbrot(img_mandel, params, \"Naive Optimized+\")\n",
    "\n",
    "# Optimized Mandelbrot Algorithm++\n",
    "img_mandel = NaiveMandelbrotOptimizedPlus(width, height, img, params)\n",
    "displayMandelbrot(img_mandel, params, \"Naive optimized++\")"
   ]
  }
 ],
 "metadata": {
  "kernelspec": {
   "display_name": ".venv",
   "language": "python",
   "name": "python3"
  },
  "language_info": {
   "codemirror_mode": {
    "name": "ipython",
    "version": 3
   },
   "file_extension": ".py",
   "mimetype": "text/x-python",
   "name": "python",
   "nbconvert_exporter": "python",
   "pygments_lexer": "ipython3",
   "version": "3.11.6"
  }
 },
 "nbformat": 4,
 "nbformat_minor": 2
}
