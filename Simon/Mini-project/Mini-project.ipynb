{
 "cells": [
  {
   "cell_type": "markdown",
   "metadata": {},
   "source": [
    "# Mini-Project Numerical Scientific Computing\n",
    "\n",
    "- Understand the mathematical algorithm and how it can be programmed.\n",
    "- Naive algorithm: Make a first implementation in Python using for-loops. You can use either lists or numpy arrays for data storage, but no vector operations.\n",
    "- Numpy vectorized algorithm: Instead of looping over every element, use Numpy vectorized operations."
   ]
  },
  {
   "cell_type": "markdown",
   "metadata": {},
   "source": [
    "# Importing libraries\n"
   ]
  },
  {
   "cell_type": "code",
   "execution_count": 14,
   "metadata": {},
   "outputs": [],
   "source": [
    "# Importing libraries\n",
    "import matplotlib.pyplot as plt\n",
    "import multiprocessing as mp\n",
    "from tqdm.notebook import tqdm\n",
    "from numba import jit\n",
    "import numpy as np\n",
    "import cv2 as cv\n",
    "import timeit\n",
    "import time\n",
    "\n",
    "# Set the threshold to a high value to display all elements\n",
    "np.set_printoptions(threshold=np.inf)"
   ]
  },
  {
   "cell_type": "markdown",
   "metadata": {},
   "source": [
    "# Naive algorithm for computing Mandelbrot set\n"
   ]
  },
  {
   "cell_type": "markdown",
   "metadata": {},
   "source": [
    "##### Naive Mandelbrot Algorithm\n"
   ]
  },
  {
   "cell_type": "code",
   "execution_count": 15,
   "metadata": {},
   "outputs": [],
   "source": [
    "def NaiveMandelbrot(width, height, img, params):\n",
    "    # Pseudocode from wikipedia: https://en.wikipedia.org/wiki/Mandelbrot_set\n",
    "    min_real, max_real, min_imaginary, max_imaginary, max_iter, T = params\n",
    "   \n",
    "    # Iterate through each pixel coordinate\n",
    "\n",
    "    for Px in tqdm(range(width), total=width, desc=\"Computing Mandelbrot Set\"):\n",
    "        #for Px in range(width):\n",
    "            for Py in range(height):\n",
    "                # Map pixel coordinates to real and imaginary parts of c\n",
    "                c_Real = min_real + (max_real - min_real) * (Px / width)\n",
    "                c_Imgy = min_imaginary + (max_imaginary - min_imaginary) * (Py / height)\n",
    "\n",
    "                # Initialize z as 0\n",
    "                z_Real = 0\n",
    "                z_Imgy = 0\n",
    "\n",
    "                # Initialize iterations\n",
    "                iter = 0\n",
    "\n",
    "                # Calculate the Mandelbrot iteration until the threshold\n",
    "                # has been reached at 2 and iterations reach max iterations.\n",
    "                # The threshold has been reached when the magnitude at each\n",
    "                # calculation is <= to 2. (2*2) represent the squared threshold.\n",
    "                while z_Real * z_Real + z_Imgy * z_Imgy <= T*2 and iter < max_iter:\n",
    "                    # Calculate the next iteration of the real and imginary part of z\n",
    "                    next_z_Real = z_Real * z_Real - z_Imgy * z_Imgy + c_Real\n",
    "                    next_z_Imgy = 2 * z_Real * z_Imgy + c_Imgy\n",
    "                    \n",
    "                    # Assign the calculated parts to z as the new starting point\n",
    "                    z_Real = next_z_Real\n",
    "                    z_Imgy = next_z_Imgy\n",
    "\n",
    "                    # Increase iteration\n",
    "                    iter += 1\n",
    "\n",
    "                # Checking if i(c) is in the Mandelbrot set\n",
    "                #if iter == max_iter:\n",
    "                #    # In the Mandelbrot set\n",
    "                #    color = 255\n",
    "                #    img[Py, Px] = color\n",
    "                #else:\n",
    "                #    # Paint the pixel based on gradient color\n",
    "                #    #color = plt.cm.hot(iter / max_iter)\n",
    "                #    #img[Py, Px] = (color[0] * 255, color[1] * 255, color[2] * 255)\n",
    "                #    color = iter / max_iter\n",
    "                    img[Py, Px] = iter\n",
    "    \n",
    "    return img"
   ]
  },
  {
   "cell_type": "markdown",
   "metadata": {},
   "source": [
    "# Optimizing the inner while loop\n"
   ]
  },
  {
   "cell_type": "markdown",
   "metadata": {},
   "source": [
    "##### Optimized Mandelbrot Algorithm+\n"
   ]
  },
  {
   "cell_type": "code",
   "execution_count": 16,
   "metadata": {},
   "outputs": [],
   "source": [
    "def NaiveMandelbrotOptimized(width, height, img, params):\n",
    "    # Pseudocode from wikipedia: https://en.wikipedia.org/wiki/Plotting_algorithms_for_the_Mandelbrot_set\n",
    "    min_real, max_real, min_imaginary, max_imaginary, max_iter, T = params\n",
    "\n",
    "    # Iterate through each pixel coordinate\n",
    "    #for Px in range(width):\n",
    "    for Px in tqdm(range(width), total=width, desc=\"Computing Mandelbrot Set\"):\n",
    "        for Py in range(height):\n",
    "            # Map pixel coordinates to real and imaginary parts of c\n",
    "            c_Real = min_real + (max_real - min_real) * (Px / width)\n",
    "            c_Imgy = min_imaginary + (max_imaginary - min_imaginary) * (Py / height)\n",
    "\n",
    "            # Initialize z as 0 and introduce new variable w\n",
    "            z_Real = 0\n",
    "            z_Imgy = 0\n",
    "            w = 0\n",
    "\n",
    "            # Initialize iterations\n",
    "            iter = 0\n",
    "\n",
    "            # Calculate the Mandelbrot iteration until the threshold\n",
    "            # Optimizing multiplication computations\n",
    "            # from naive approach\n",
    "            while z_Real + z_Imgy <= T*2 and iter < max_iter:\n",
    "                # Calculate the next iteration of the real and imginary part of z\n",
    "                next_z_Real = z_Real - z_Imgy + c_Real\n",
    "                next_z_Imgy = w - z_Real - z_Imgy + c_Imgy\n",
    "\n",
    "                # Assign the calculated parts to z as the new starting point\n",
    "                z_Real = next_z_Real * next_z_Real\n",
    "                z_Imgy = next_z_Imgy * next_z_Imgy\n",
    "                w = (next_z_Real + next_z_Imgy) * (next_z_Real + next_z_Imgy)\n",
    "\n",
    "                # Increase iteration\n",
    "                iter += 1\n",
    "\n",
    "            # Checking if i(c) is in the Mandelbrot set\n",
    "            if iter == max_iter:\n",
    "                # In the Mandelbrot set\n",
    "                img[Py, Px] = 255\n",
    "            else:\n",
    "                # Paint the pixel based on gradient color\n",
    "                color = plt.cm.hot(iter / max_iter)\n",
    "                img[Py, Px] = (color[0] * 255, color[1] * 255, color[2] * 255)\n",
    "\n",
    "    return img"
   ]
  },
  {
   "cell_type": "markdown",
   "metadata": {},
   "source": [
    "##### Further Optimized Mandelbrot Algorithm++\n"
   ]
  },
  {
   "cell_type": "code",
   "execution_count": 17,
   "metadata": {},
   "outputs": [],
   "source": [
    "def NaiveMandelbrotOptimizedPlus(width, height, img, params):\n",
    "    # Pseudocode from wikipedia: https://en.wikipedia.org/wiki/Plotting_algorithms_for_the_Mandelbrot_set\n",
    "    min_real, max_real, min_imaginary, max_imaginary, max_iter, T = params\n",
    "\n",
    "    # Iterate through each pixel coordinate\n",
    "    #for Px in range(width):\n",
    "    for Px in tqdm(range(width), total=width, desc=\"Computing Mandelbrot Set\"):\n",
    "        for Py in range(height):\n",
    "            # Map pixel coordinates to real and imaginary parts of c\n",
    "            c_Real = min_real + (max_real - min_real) * (Px / width)\n",
    "            c_Imgy = min_imaginary + (max_imaginary - min_imaginary) * (Py / height)\n",
    "\n",
    "            # Initialize z as 0\n",
    "            z_Real = 0\n",
    "            z_Imgy = 0\n",
    "\n",
    "            next_z_Real = 0\n",
    "            next_z_Imgy = 0\n",
    "\n",
    "            # Initialize iterations\n",
    "            iter = 0\n",
    "\n",
    "            # Calculate the Mandelbrot iteration until the threshold\n",
    "            # Optimizing multiplication computations\n",
    "            # from naive approach\n",
    "            while z_Real + z_Imgy <= T*2 and iter < max_iter:\n",
    "                # Calculate the next iteration of the real and imginary part of z\n",
    "                next_z_Imgy = 2 * next_z_Real * next_z_Imgy + c_Imgy\n",
    "                next_z_Real = z_Real - z_Imgy + c_Real\n",
    "\n",
    "                # Assign the calculated parts to z as the new starting point\n",
    "                z_Real = next_z_Real * next_z_Real\n",
    "                z_Imgy = next_z_Imgy * next_z_Imgy\n",
    "\n",
    "                # Increase iteration\n",
    "                iter += 1\n",
    "\n",
    "            # Checking if i(c) is in the Mandelbrot set\n",
    "            if iter == max_iter:\n",
    "                # In the Mandelbrot set\n",
    "                img[Py, Px] = 255\n",
    "            else:\n",
    "                # Paint the pixel based on gradient color\n",
    "                color = plt.cm.hot(iter / max_iter)\n",
    "                img[Py, Px] = (color[0] * 255, color[1] * 255, color[2] * 255)\n",
    "\n",
    "    return img"
   ]
  },
  {
   "cell_type": "markdown",
   "metadata": {},
   "source": [
    "# Mandelbrot algorithm using Numpy vectorization\n"
   ]
  },
  {
   "cell_type": "markdown",
   "metadata": {},
   "source": [
    "Performing vectorization on the naive Mandelbrot Algorithm implementation\n"
   ]
  },
  {
   "cell_type": "code",
   "execution_count": 18,
   "metadata": {},
   "outputs": [],
   "source": [
    "def VectorizedMandelbrot(width, height, img, params):\n",
    "    min_real, max_real, min_imaginary, max_imaginary, max_iter, T = params\n",
    "\n",
    "    # Creating np arrays for width/height pixels\n",
    "    Px = np.linspace(min_real, max_real, width)\n",
    "    Py = np.linspace(min_imaginary, max_imaginary, height)\n",
    "    c = Px[np.newaxis, :] + 1j * Py[:, np.newaxis]\n",
    "    \n",
    "    # Initialize z as 0's, iter, and mask arrays\n",
    "    z = np.zeros_like(c, dtype=np.complex128)\n",
    "    iter = np.zeros(c.shape, dtype=np.int32)\n",
    "    mask = np.full(c.shape, True, dtype=bool)\n",
    "\n",
    "    # Using logical mask to check for divergence or escaped points\n",
    "    #for i in range(int(max_iter)):\n",
    "    for i in tqdm(range(int(max_iter)), total=width, desc=\"Computing Mandelbrot Set\"):\n",
    "        z[mask] = z[mask] * z[mask] + c[mask]\n",
    "        mask = np.logical_and(mask, np.abs(z) < T)\n",
    "        iter[mask] = i\n",
    "    \n",
    "    # If a point hasn't diverged, set the output value to (max iter - 1)\n",
    "    #iter[mask] = max_iter - 1\n",
    "\n",
    "    # Assigning colors based on escape status and iterations\n",
    "    colors = plt.cm.hot(iter / max_iter)\n",
    "    \n",
    "    img[:, :, 0] = colors[:,:, 0] * 255\n",
    "    img[:, :, 1] = colors[:,:, 1] * 255\n",
    "    img[:, :, 2] = colors[:,:, 2] * 255\n",
    "    \n",
    "    return img"
   ]
  },
  {
   "cell_type": "markdown",
   "metadata": {},
   "source": [
    "# Naive Mandelbrot Algorithm using Numba jit\n"
   ]
  },
  {
   "cell_type": "code",
   "execution_count": 19,
   "metadata": {},
   "outputs": [],
   "source": [
    "@jit(nopython=True, fastmath=True, cache=True)\n",
    "def NaiveMandelbrotNumba(width, height, img, params):\n",
    "    # Pseudocode from wikipedia: https://en.wikipedia.org/wiki/Mandelbrot_set\n",
    "    min_real, max_real, min_imaginary, max_imaginary, max_iter, T = params\n",
    "\n",
    "    # Iterate through each pixel coordinate\n",
    "    # t1 = time.time()\n",
    "    #for Px in range(width):\n",
    "    for Px in tqdm(range(width), total=width, desc=\"Computing Mandelbrot Set\"):\n",
    "        for Py in range(height):\n",
    "            # Map pixel coordinates to real and imaginary parts of c\n",
    "            c_Real = min_real + (max_real - min_real) * (Px / width)\n",
    "            c_Imgy = min_imaginary + (max_imaginary - min_imaginary) * (Py / height)\n",
    "\n",
    "            # Initialize z as 0\n",
    "            z_Real = 0\n",
    "            z_Imgy = 0\n",
    "\n",
    "            # Initialize iterations\n",
    "            iter = 0\n",
    "\n",
    "            # Calculate the Mandelbrot iteration until the threshold\n",
    "            # has been reached at 2 and iterations reach max iterations.\n",
    "            # The threshold has been reached when the magnitude at each\n",
    "            # calculation is <= to 2. (2*2) represent the squared threshold.\n",
    "            while z_Real**2 + z_Imgy**2 <= T*2 and iter < max_iter:\n",
    "                # Calculate the next iteration of the real and imginary part of z\n",
    "                next_z_Real = z_Real**2 - z_Imgy**2 + c_Real\n",
    "                next_z_Imgy = 2 * z_Real * z_Imgy + c_Imgy\n",
    "\n",
    "                # Assign the calculated parts to z as the new starting point\n",
    "                z_Real = next_z_Real\n",
    "                z_Imgy = next_z_Imgy\n",
    "\n",
    "                # Increase iteration\n",
    "                iter += 1\n",
    "\n",
    "            # Checking if i(c) is in the Mandelbrot set\n",
    "            if iter == max_iter:\n",
    "                # In the Mandelbrot set\n",
    "                img[Py, Px] = 255\n",
    "            else:\n",
    "                # Paint the pixel based on simple color mapping\n",
    "                i = iter / max_iter\n",
    "                r = int(255 * (1 - i))\n",
    "                g = int(255 * (1 - 0.5 * i))\n",
    "                b = int(255 * (1 - 0.75 * i))\n",
    "                img[Py, Px] = (r * 255, g * 255, b * 255)\n",
    "    # t2 = time.time()\n",
    "\n",
    "    # print(f\"\\n- Naive Mandelbrot Algorithm -\\nExecution time: {t2-t1}s\")\n",
    "\n",
    "    return img"
   ]
  },
  {
   "cell_type": "markdown",
   "metadata": {},
   "source": [
    "# Parallel Mandelbrot Algorithm"
   ]
  },
  {
   "cell_type": "code",
   "execution_count": 20,
   "metadata": {},
   "outputs": [],
   "source": [
    "def MandelbrotChunk(chunk_start, chunk_end, width, height, params):\n",
    "    min_real, max_real, min_imaginary, max_imaginary, max_iter, T, *_ = params\n",
    "\n",
    "    # Compute Mandelbrot set for a chunk of the image\n",
    "    # Iterate through pixels from chunk_start to chunk_end\n",
    "    # Update image array accordingly\n",
    "    \n",
    "    # Initialize an empty array to store the chunk\n",
    "    chunk = np.zeros((chunk_end - chunk_start, width, 3), dtype=np.uint8)\n",
    "\n",
    "    # Iterating through a chunk of the image\n",
    "    for Px in range(width):\n",
    "        for Py in range(chunk_start, chunk_end):\n",
    "            # Map pixel coordinates to real and imaginary parts of c\n",
    "            c_Real = min_real + (max_real - min_real) * (Px / width)\n",
    "            c_Imgy = min_imaginary + (max_imaginary - min_imaginary) * (Py / height)\n",
    "\n",
    "            # Initialize z as 0\n",
    "            z_Real = 0\n",
    "            z_Imgy = 0\n",
    "\n",
    "            # Initialize iterations\n",
    "            iter = 0\n",
    "\n",
    "            # Calculate the Mandelbrot iteration until the threshold\n",
    "            while z_Real * z_Real + z_Imgy * z_Imgy <= T * 2 and iter < max_iter:\n",
    "                # Calculate the next iteration of the real and imginary part of z\n",
    "                next_z_Real = z_Real * z_Real - z_Imgy * z_Imgy + c_Real\n",
    "                next_z_Imgy = 2 * z_Real * z_Imgy + c_Imgy\n",
    "\n",
    "                # Assign the calculated parts to z as the new starting point\n",
    "                z_Real = next_z_Real\n",
    "                z_Imgy = next_z_Imgy\n",
    "\n",
    "                # Increase iteration\n",
    "                iter += 1\n",
    "\n",
    "            # Checking if i(c) is in the Mandelbrot set\n",
    "            if iter == max_iter:\n",
    "                # In the Mandelbrot set\n",
    "                color = 255\n",
    "                chunk[Py - chunk_start, Px] = color\n",
    "            else:\n",
    "                # Paint the pixel based on gradient color\n",
    "                color = plt.cm.hot(iter / max_iter)\n",
    "                chunk[Py - chunk_start, Px] = (color[0] * 255, color[1] * 255, color[2] * 255)\n",
    "\n",
    "    return chunk\n",
    "\n",
    "def chunking(check, num_processes, height):\n",
    "    if check == \"equal\":\n",
    "        # Dividing image in equal chunks based on number of processes\n",
    "        chunk_size = height // num_processes\n",
    "        chunks = [(i * chunk_size, (i + 1) * chunk_size) for i in range(num_processes)]\n",
    "        \n",
    "        # If the last chunk size != height, we add the remainder of pixels to the last chunk\n",
    "        if chunks[-1][1] != height:\n",
    "           chunks[-1] = (chunks[-1][0], height)\n",
    "           \n",
    "        return chunks\n",
    "    \n",
    "    elif check == \"dynamic\":\n",
    "        # Using dynamic chunking based on number of processed and image size\n",
    "        avg_chunk_size = height / num_processes\n",
    "        remaining_height = height % num_processes\n",
    "        chunks = []\n",
    "        start = 0\n",
    "        \n",
    "        # Check if remaining height is less than numnber of processes\n",
    "        # if yes, increase chunk size for making even chunks\n",
    "        for i in range(num_processes):\n",
    "            chunk_size = int(avg_chunk_size)\n",
    "            if i < remaining_height:\n",
    "                chunk_size += 1\n",
    "            end = start + chunk_size\n",
    "            chunks.append((start, end))\n",
    "            start = end\n",
    "            \n",
    "        return chunks\n",
    "    else:\n",
    "        print(\"Error! *Wrong parameter*\")\n",
    "    \n",
    "\n",
    "def ParallelMandelbrot(width, height, img, params):\n",
    "    *_, check, P = params\n",
    "    \n",
    "    # Create process pool and apply chunking scheme\n",
    "    pool = mp.Pool(processes=P)\n",
    "    chunks = chunking(check, P, height)\n",
    "    print(\"type:\", check)\n",
    "    print(\"processes:\", P)\n",
    "    print(\"chunks\",chunks)\n",
    "    \n",
    "    # Assigning a chunk to each process\n",
    "    results = []\n",
    "    t1 = time.time()\n",
    "    for chunk_start, chunk_end in chunks:\n",
    "        results.append(pool.apply_async(MandelbrotChunk, (chunk_start, chunk_end, width, height, params)))\n",
    "    \n",
    "    # Combine each image chunk to create full image\n",
    "    for result, (chunk_start, chunk_end) in zip(results, chunks):\n",
    "        img[chunk_start:chunk_end] = result.get()\n",
    "    \n",
    "    # Close and wait for process termination -> Good practice!\n",
    "    pool.close()\n",
    "    pool.join()\n",
    "    \n",
    "    t2 = time.time()\n",
    "    t = t2-t1\n",
    "    print(\"time:\",t)\n",
    "    print()\n",
    "    \n",
    "    return img, t\n",
    "\n",
    "def plot_results(P_values, time_values, chunk): \n",
    "    fig, axs = plt.subplots(1, 2, figsize=(12, 6))\n",
    "    fig.suptitle(f\"Performance Analysis of Parallel Mandelbrot Algorithm\\nChunking: {chunk}\", fontsize=16)\n",
    "\n",
    "    axs[0].set_title(f\"Execution Time\")\n",
    "    axs[0].plot(P_values, time_values, marker='o', color='b')\n",
    "    axs[0].set_xlabel(\"Number of Processes\")\n",
    "    axs[0].set_ylabel(\"Execution Time [s]\")\n",
    "\n",
    "    speedup = [time_values[0] / t for t in time_values]\n",
    "    axs[1].set_title(f\"Speedup\")\n",
    "    axs[1].plot(P_values, speedup, marker='o', color='r')\n",
    "    axs[1].set_xlabel(\"Number of Processes\")\n",
    "    axs[1].set_ylabel(\"Speedup\")\n",
    "\n",
    "    plt.tight_layout()\n",
    "    plt.show()"
   ]
  },
  {
   "cell_type": "markdown",
   "metadata": {},
   "source": [
    "# Displaying the Mandelbrot set in the complex plane\n"
   ]
  },
  {
   "cell_type": "markdown",
   "metadata": {},
   "source": [
    "##### Function to display Mandelbrot\n"
   ]
  },
  {
   "cell_type": "code",
   "execution_count": 21,
   "metadata": {},
   "outputs": [],
   "source": [
    "def displayMandelbrot(img, params, title, cmap=None):\n",
    "    min_real, max_real, min_imaginary, max_imaginary, *_ = params\n",
    "    plt.imshow(img, cmap=cmap, extent=(min_real, max_real, min_imaginary, max_imaginary))\n",
    "    plt.xlabel(\"Real(c)\")\n",
    "    plt.ylabel(\"Imaginary(c)\")\n",
    "    plt.colorbar()\n",
    "    plt.title(\"Mandelbrot Set\\n- \" + f\"{title}\")\n",
    "    plt.show()"
   ]
  },
  {
   "cell_type": "markdown",
   "metadata": {},
   "source": [
    "# Defining image and complex variables\n"
   ]
  },
  {
   "cell_type": "code",
   "execution_count": 22,
   "metadata": {},
   "outputs": [],
   "source": [
    "# Defining image size\n",
    "width = 500\n",
    "height = 500\n",
    "channel = 3\n",
    "#img = np.zeros((height, width, 3), dtype=np.uint8)\n",
    "img = np.zeros((height, width), dtype=np.uint8)\n",
    "\n",
    "# Defining max iterations\n",
    "max_iter = 100.0\n",
    "\n",
    "# Defining threshold\n",
    "T = 2.0\n",
    "\n",
    "# Defining the range of values for\n",
    "# the real and imaginary parts of c\n",
    "min_real = -2.0\n",
    "max_real = 1.0\n",
    "min_imaginary = -1.5\n",
    "max_imaginary = 1.5\n",
    "#params = [min_real, max_real, min_imaginary, max_imaginary, max_iter, T]\n",
    "params = [min_real, max_real, min_imaginary, max_imaginary, max_iter, T, 4]"
   ]
  },
  {
   "cell_type": "code",
   "execution_count": 23,
   "metadata": {},
   "outputs": [
    {
     "data": {
      "text/plain": [
       "'\\nif __name__ == \"__main__\":\\n    processes = mp.cpu_count()\\n    P_values = range(1, processes+1)\\n    times1 = []\\n    times2 = []\\n    for i in range(processes):\\n        params = [min_real, max_real, min_imaginary, max_imaginary, max_iter, T, \"equal\", i+1]\\n        \\n        _, t = ParallelMandelbrot(width, height, img, params)\\n        times1.append(t)\\n        \\n        params = [min_real, max_real, min_imaginary, max_imaginary, max_iter, T, \"dynamic\", i+1]\\n        \\n        img, t = ParallelMandelbrot(width, height, img, params)\\n        times2.append(t)\\n        \\n    print(f\"\\nChunking: Equal\\nTotal Time: {np.array(times1).sum()}\")\\n    print(f\"\\nChunking: Dynamic\\nTotal Time: {np.array(times2).sum()}\")\\n    \\n    displayMandelbrot(img, params, \"Parallel\")\\n    \\n    plot_results(P_values, times1, \"equal\")\\n    plot_results(P_values, times2, \"dynamic\")\\n'"
      ]
     },
     "execution_count": 23,
     "metadata": {},
     "output_type": "execute_result"
    }
   ],
   "source": [
    "\"\"\"\n",
    "if __name__ == \"__main__\":\n",
    "    processes = mp.cpu_count()\n",
    "    P_values = range(1, processes+1)\n",
    "    times1 = []\n",
    "    times2 = []\n",
    "    for i in range(processes):\n",
    "        params = [min_real, max_real, min_imaginary, max_imaginary, max_iter, T, \"equal\", i+1]\n",
    "        \n",
    "        _, t = ParallelMandelbrot(width, height, img, params)\n",
    "        times1.append(t)\n",
    "        \n",
    "        params = [min_real, max_real, min_imaginary, max_imaginary, max_iter, T, \"dynamic\", i+1]\n",
    "        \n",
    "        img, t = ParallelMandelbrot(width, height, img, params)\n",
    "        times2.append(t)\n",
    "        \n",
    "    print(f\"\\nChunking: Equal\\nTotal Time: {np.array(times1).sum()}\")\n",
    "    print(f\"\\nChunking: Dynamic\\nTotal Time: {np.array(times2).sum()}\")\n",
    "    \n",
    "    displayMandelbrot(img, params, \"Parallel\")\n",
    "    \n",
    "    plot_results(P_values, times1, \"equal\")\n",
    "    plot_results(P_values, times2, \"dynamic\")\n",
    "\"\"\""
   ]
  },
  {
   "cell_type": "markdown",
   "metadata": {},
   "source": [
    "### Running algorithms\n"
   ]
  },
  {
   "cell_type": "code",
   "execution_count": 25,
   "metadata": {},
   "outputs": [
    {
     "data": {
      "application/vnd.jupyter.widget-view+json": {
       "model_id": "b2fa8669375343ecb868b17272b80946",
       "version_major": 2,
       "version_minor": 0
      },
      "text/plain": [
       "Computing Mandelbrot Set:   0%|          | 0/500 [00:00<?, ?it/s]"
      ]
     },
     "metadata": {},
     "output_type": "display_data"
    },
    {
     "name": "stdout",
     "output_type": "stream",
     "text": [
      "time: 2.1875603199005127 s\n",
      "\n",
      "- Naive Mandelbrot Algorithm -\n"
     ]
    },
    {
     "data": {
      "image/png": "[encoded data removed]",
      "text/plain": [
       "<Figure size 640x480 with 2 Axes>"
      ]
     },
     "metadata": {},
     "output_type": "display_data"
    },
    {
     "data": {
      "application/vnd.jupyter.widget-view+json": {
       "model_id": "444e1ad8c19e4875a64267af60c5fe0a",
       "version_major": 2,
       "version_minor": 0
      },
      "text/plain": [
       "Computing Mandelbrot Set:   0%|          | 0/500 [00:00<?, ?it/s]"
      ]
     },
     "metadata": {},
     "output_type": "display_data"
    },
    {
     "ename": "ValueError",
     "evalue": "setting an array element with a sequence.",
     "output_type": "error",
     "traceback": [
      "\u001b[1;31m---------------------------------------------------------------------------\u001b[0m",
      "\u001b[1;31mTypeError\u001b[0m                                 Traceback (most recent call last)",
      "\u001b[1;31mTypeError\u001b[0m: int() argument must be a string, a bytes-like object or a real number, not 'tuple'",
      "\nThe above exception was the direct cause of the following exception:\n",
      "\u001b[1;31mValueError\u001b[0m                                Traceback (most recent call last)",
      "Cell \u001b[1;32mIn[25], line 10\u001b[0m\n\u001b[0;32m      7\u001b[0m displayMandelbrot(img_mandel, params, \u001b[38;5;124m\"\u001b[39m\u001b[38;5;124mNaive\u001b[39m\u001b[38;5;124m\"\u001b[39m, \u001b[38;5;124m\"\u001b[39m\u001b[38;5;124mhot\u001b[39m\u001b[38;5;124m\"\u001b[39m)\n\u001b[0;32m      9\u001b[0m \u001b[38;5;66;03m# Optimized Mandelbrot Algorithm+\u001b[39;00m\n\u001b[1;32m---> 10\u001b[0m img_mandel \u001b[38;5;241m=\u001b[39m \u001b[43mNaiveMandelbrotOptimized\u001b[49m\u001b[43m(\u001b[49m\u001b[43mwidth\u001b[49m\u001b[43m,\u001b[49m\u001b[43m \u001b[49m\u001b[43mheight\u001b[49m\u001b[43m,\u001b[49m\u001b[43m \u001b[49m\u001b[43mimg\u001b[49m\u001b[43m,\u001b[49m\u001b[43m \u001b[49m\u001b[43mparams\u001b[49m\u001b[43m)\u001b[49m\n\u001b[0;32m     11\u001b[0m \u001b[38;5;28mprint\u001b[39m(\u001b[38;5;124mf\u001b[39m\u001b[38;5;124m\"\u001b[39m\u001b[38;5;130;01m\\n\u001b[39;00m\u001b[38;5;124m- Optimized Naive Mandelbrot Algorithm+ -\u001b[39m\u001b[38;5;124m\"\u001b[39m)\n\u001b[0;32m     12\u001b[0m displayMandelbrot(img_mandel, params, \u001b[38;5;124m\"\u001b[39m\u001b[38;5;124mNaive Optimized+\u001b[39m\u001b[38;5;124m\"\u001b[39m)\n",
      "Cell \u001b[1;32mIn[16], line 44\u001b[0m, in \u001b[0;36mNaiveMandelbrotOptimized\u001b[1;34m(width, height, img, params)\u001b[0m\n\u001b[0;32m     41\u001b[0m         \u001b[38;5;28;01melse\u001b[39;00m:\n\u001b[0;32m     42\u001b[0m             \u001b[38;5;66;03m# Paint the pixel based on gradient color\u001b[39;00m\n\u001b[0;32m     43\u001b[0m             color \u001b[38;5;241m=\u001b[39m plt\u001b[38;5;241m.\u001b[39mcm\u001b[38;5;241m.\u001b[39mhot(\u001b[38;5;28miter\u001b[39m \u001b[38;5;241m/\u001b[39m max_iter)\n\u001b[1;32m---> 44\u001b[0m             \u001b[43mimg\u001b[49m\u001b[43m[\u001b[49m\u001b[43mPy\u001b[49m\u001b[43m,\u001b[49m\u001b[43m \u001b[49m\u001b[43mPx\u001b[49m\u001b[43m]\u001b[49m \u001b[38;5;241m=\u001b[39m (color[\u001b[38;5;241m0\u001b[39m] \u001b[38;5;241m*\u001b[39m \u001b[38;5;241m255\u001b[39m, color[\u001b[38;5;241m1\u001b[39m] \u001b[38;5;241m*\u001b[39m \u001b[38;5;241m255\u001b[39m, color[\u001b[38;5;241m2\u001b[39m] \u001b[38;5;241m*\u001b[39m \u001b[38;5;241m255\u001b[39m)\n\u001b[0;32m     46\u001b[0m \u001b[38;5;28;01mreturn\u001b[39;00m img\n",
      "\u001b[1;31mValueError\u001b[0m: setting an array element with a sequence."
     ]
    }
   ],
   "source": [
    "params = [min_real, max_real, min_imaginary, max_imaginary, max_iter, T]\n",
    "# Naive Mandelbrot Algorithm\n",
    "t1 = time.time()\n",
    "img_mandel = NaiveMandelbrot(width, height, img, params)\n",
    "print(\"time:\",time.time() - t1, \"s\")\n",
    "print(f\"\\n- Naive Mandelbrot Algorithm -\")\n",
    "displayMandelbrot(img_mandel, params, \"Naive\", \"hot\")\n",
    "\n",
    "# Optimized Mandelbrot Algorithm+\n",
    "img_mandel = NaiveMandelbrotOptimized(width, height, img, params)\n",
    "print(f\"\\n- Optimized Naive Mandelbrot Algorithm+ -\")\n",
    "displayMandelbrot(img_mandel, params, \"Naive Optimized+\")\n",
    "\n",
    "# Optimized Mandelbrot Algorithm++\n",
    "img_mandel = NaiveMandelbrotOptimizedPlus(width, height, img, params)\n",
    "print(f\"\\n- Optimized Naive Mandelbrot Algorithm++ -\")\n",
    "displayMandelbrot(img_mandel, params, \"Naive optimized++\")\n",
    "\n",
    "# Vectorized Mandelbrot Algorithm\n",
    "img_mandel = VectorizedMandelbrot(width, height, img, params)\n",
    "print(f\"\\n- Vectorized Mandelbrot Algorithm -\")\n",
    "displayMandelbrot(img_mandel, params, \"Vectorized\")\n",
    "\n",
    "# Numba jit Optimized Mandelbrot Algorithm\n",
    "img_mandel1 = NaiveMandelbrotNumba(width, height, img, params)\n",
    "print(f\"\\n- Numba Mandelbrot Algorithm -\")\n",
    "displayMandelbrot(img_mandel1, params, \"Numba\", \"hot\")"
   ]
  },
  {
   "cell_type": "markdown",
   "metadata": {},
   "source": [
    "### Timing each algorithm"
   ]
  },
  {
   "cell_type": "code",
   "execution_count": null,
   "metadata": {},
   "outputs": [],
   "source": [
    "# Number of runs\n",
    "runs = 1\n",
    "\n",
    "# Naive Mandelbrot Algorithm\n",
    "#avg_time = timeit.timeit(lambda:NaiveMandelbrot(width, height, img, params), number = runs) / runs\n",
    "#print(f\"Naive Algorithm - Avg Execution Time: {avg_time}s\")\n",
    "\n",
    "# Optimized Mandelbrot Algorithm+\n",
    "#avg_time = timeit.timeit(lambda:NaiveMandelbrotOptimized(width, height, img, params), number = runs) / runs\n",
    "#print(f\"Optimized+ Algorithm - Avg Execution Time: {avg_time}s\")\n",
    "\n",
    "# Optimized Mandelbrot Algorithm++\n",
    "#avg_time = timeit.timeit(lambda:NaiveMandelbrotOptimizedPlus(width, height, img, params), number = runs) / runs\n",
    "#print(f\"Optimized++ Algorithm - Avg Execution Time: {avg_time}s\")\n",
    "\n",
    "# Vectorized Mandelbrot Algorithm\n",
    "avg_time = timeit.timeit(lambda:VectorizedMandelbrot(width, height, img, params), number = runs) / runs\n",
    "print(f\"Vectorized Algorithm - Avg Execution Time: {avg_time}s\")\n",
    "\n",
    "# Numba jit Optimized Mandelbrot Algorithm\n",
    "avg_time = timeit.timeit(lambda:NaiveMandelbrotNumba(width, height, img, params), number = runs) / runs\n",
    "print(f\"Numba Algorithm - Avg Execution Time: {avg_time}s\")"
   ]
  }
 ],
 "metadata": {
  "kernelspec": {
   "display_name": ".venv",
   "language": "python",
   "name": "python3"
  },
  "language_info": {
   "codemirror_mode": {
    "name": "ipython",
    "version": 3
   },
   "file_extension": ".py",
   "mimetype": "text/x-python",
   "name": "python",
   "nbconvert_exporter": "python",
   "pygments_lexer": "ipython3",
   "version": "3.11.6"
  }
 },
 "nbformat": 4,
 "nbformat_minor": 2
}
