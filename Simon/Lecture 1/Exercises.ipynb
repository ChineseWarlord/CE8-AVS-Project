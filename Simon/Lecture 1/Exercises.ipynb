{
 "cells": [
  {
   "cell_type": "markdown",
   "metadata": {},
   "source": [
    "# Exercises 1.1 - Use of register\n",
    "\n",
    "- Create a vector X of N random numbers, where N is in the order of 1e6 to 1e8 (depending on the speed of your computer).\n",
    "- Create the following implementations to calculate the difference between the consecutive elements in X: (resulting in a vector Y with N-1 elements)\n",
    "  1. Use a regular for loop and calculate the difference as Y(i) = X(i+1) - X(i), where X and Y are implemented as python lists.\n",
    "  2. Extend the above program with intermediate variables (e.g. x_next and x_now) to store the X(i+1) value for the next iteration.\n",
    "  3. Same as 1, but store X and Y as numpy arrays.\n",
    "  4. Same as 2, but store X and Y as numpy arrays.\n",
    "  5. Use a diff-function to compute the result thereby exploiting vector computation (wide registers) - in Python this function is \"numpy.diff\". Remember to include \"import numpy\".\n",
    "- Measure the execution time of all implementations and explain the difference in performance.\n"
   ]
  },
  {
   "cell_type": "code",
   "execution_count": 1,
   "metadata": {},
   "outputs": [],
   "source": [
    "# Importing libraries\n",
    "import numpy as np\n",
    "import random as rnd\n",
    "import time"
   ]
  },
  {
   "cell_type": "code",
   "execution_count": 2,
   "metadata": {},
   "outputs": [],
   "source": [
    "# Creating different implementations\n",
    "def simple_indexing(x,y,n):\n",
    "    t1 = time.time()\n",
    "    for i in range(n-1):\n",
    "        y[i] = x[i+1] - x[i]\n",
    "    t2 = time.time()\n",
    "    \n",
    "    return t2-t1\n",
    "    \n",
    "def intermediate_vars(x,y,n):\n",
    "    t1 = time.time()\n",
    "    x_now = x[0]\n",
    "    for i in range(n-1):\n",
    "        x_next = x[i+1]\n",
    "        y[i] = x_next - x_now\n",
    "        x_now = x_next\n",
    "    t2 = time.time()\n",
    "    \n",
    "    return t2-t1\n",
    "\n",
    "def np_function(x):\n",
    "    t1 = time.time()\n",
    "    np.diff(x)\n",
    "    t2 = time.time()\n",
    "    \n",
    "    return t2-t1\n",
    "    \n",
    "# Random number generator\n",
    "def random_number(N):\n",
    "    return [rnd.random() for _ in range(N)]"
   ]
  },
  {
   "cell_type": "code",
   "execution_count": 3,
   "metadata": {},
   "outputs": [
    {
     "name": "stdout",
     "output_type": "stream",
     "text": [
      "Python lists:        0.07985734939575195\n",
      "Python intermediate: 0.08084487915039062\n",
      "Numpy lists:         0.29164648056030273\n",
      "Numpy intermediate:  0.21327924728393555\n",
      "Numpy diff function: 0.0014886856079101562\n"
     ]
    }
   ],
   "source": [
    "# Setting up variables\n",
    "N = int(1e6)\n",
    "X = random_number(N)\n",
    "Y = [0] * N\n",
    "\n",
    "print(\"Python lists:       \",simple_indexing(X,Y,N))\n",
    "print(\"Python intermediate:\",intermediate_vars(X,Y,N))\n",
    "\n",
    "X = np.array(X)\n",
    "Y = np.zeros(N)\n",
    "print(\"Numpy lists:        \",simple_indexing(X,Y,N))\n",
    "print(\"Numpy intermediate: \",intermediate_vars(X,Y,N))\n",
    "print(\"Numpy diff function:\",np_function(X))"
   ]
  },
  {
   "cell_type": "markdown",
   "metadata": {},
   "source": [
    "Results indicate that in the case of python lists, calculating the difference between two elements is (generally) faster by simple indexing, than assigning intermediate variables.\n",
    "\n",
    "As for numpy arrays, the execution times shows that calculating the difference between two elements is a lot slower than using python lists. However, a slight speedup is seen when using intermediate variables.\n",
    "\n",
    "Using the built-in numpy function (np.diff()) which uses vectorized operations is a lot faster than traditional python lists or python arrays.\n"
   ]
  },
  {
   "cell_type": "markdown",
   "metadata": {},
   "source": [
    "# Exercises 1.2 - Memory organization - C vs Fortran\n",
    "\n",
    "##### Part A - Theoretical\n",
    "\n",
    "- We have 6 elements stored contiguous in memory in the order: 1, 2, 3, 4, 5, 6. In the following, we read this contiguous data into arrays in different ways. What do the arrays look like if we read the data as:\n",
    "\n",
    "  1. a 2x3 matrix treating data as column-major (Fortran style) as F2x3?\n",
    "  2. a 3x2 matrix treating data as column-major (Fortran style) as F3x2?\n",
    "  3. a 2x3 matrix treating data as row-major (C style) as C2x3?\n",
    "  4. a 3x2 matrix treating data as row-major (C style) as C3x2?\n",
    "\n",
    "- Explain the relations between the different matrices and how this may be utilized.\n"
   ]
  },
  {
   "cell_type": "markdown",
   "metadata": {},
   "source": [
    "F2x3 (column-major, 2x3):\n",
    "| 1 | 3 | 5 |\n",
    "|---|---|---|\n",
    "| 2 | 4 | 6 |\n",
    "\n",
    "F3x2 (column-major, 3x2):\n",
    "| 1 | 4 |\n",
    "|---|---|\n",
    "| 2 | 5 |\n",
    "| 3 | 6 |\n",
    "\n",
    "C2x3 (row-major, 2x3):\n",
    "| 1 | 2 | 3 |\n",
    "|---|---|---|\n",
    "| 4 | 5 | 6 |\n",
    "\n",
    "C3x2 (row-major, 3x2):\n",
    "| 1 | 2 |\n",
    "|---|---|\n",
    "| 3 | 4 |\n",
    "| 5 | 6 |\n",
    "\n",
    "F3x2 column-major and C2x3 row-major both allows for the memory to be contiguous, and is a benefit when doing column/row-wise matrix operations respectively.\n"
   ]
  },
  {
   "cell_type": "markdown",
   "metadata": {},
   "source": [
    "##### Part B - Practical\n",
    "\n",
    "- Generate a random vector X with dimension N x M and another vector Y with opposite dimensions M x N, where N >> M, e.g. N = 100.000, M = 100.\n",
    "- Make a program with two functions: one that loops over each row and calculates the row-sum (using numpy.sum()) and one that does the same, but loops over each column.\n",
    "- Measure execution speed for each orientation for each for the two vectors.\n",
    "- Do these results match your expectation given the memory layout difference between Fortran (Matlab) and C (Python)?\n",
    "  - In Python: if this was implemented with a 2D list, you will probably not see a big difference. Why not?\n",
    "- Extra info: In Python Numpy you can specify the memory layout for an array explicitly using the keyword order=‘C’ or order=‘F’.\n"
   ]
  },
  {
   "cell_type": "code",
   "execution_count": 4,
   "metadata": {},
   "outputs": [],
   "source": [
    "def row_wise():\n",
    "    return\n",
    "\n",
    "\n",
    "def column_wise():\n",
    "    return\n",
    "\n",
    "\n",
    "def np_random_number(n, m):\n",
    "    return np.random.random((n, m))"
   ]
  },
  {
   "cell_type": "code",
   "execution_count": 5,
   "metadata": {},
   "outputs": [
    {
     "name": "stdout",
     "output_type": "stream",
     "text": [
      "X row-wise:   \n",
      "X column-wise:\n",
      "Y row-wise:   \n",
      "Y column-wise:\n"
     ]
    }
   ],
   "source": [
    "# Setting up variables\n",
    "N = 100_000\n",
    "M = 100\n",
    "\n",
    "X = np_random_number(N,M)\n",
    "Y = np_random_number(N,M)\n",
    "\n",
    "print(\"X row-wise:   \")\n",
    "print(\"X column-wise:\")\n",
    "print(\"Y row-wise:   \")\n",
    "print(\"Y column-wise:\")"
   ]
  }
 ],
 "metadata": {
  "kernelspec": {
   "display_name": ".venv",
   "language": "python",
   "name": "python3"
  },
  "language_info": {
   "codemirror_mode": {
    "name": "ipython",
    "version": 3
   },
   "file_extension": ".py",
   "mimetype": "text/x-python",
   "name": "python",
   "nbconvert_exporter": "python",
   "pygments_lexer": "ipython3",
   "version": "3.11.6"
  }
 },
 "nbformat": 4,
 "nbformat_minor": 2
}
